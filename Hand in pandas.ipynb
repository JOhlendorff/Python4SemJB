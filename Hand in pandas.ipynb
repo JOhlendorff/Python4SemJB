{
 "cells": [
  {
   "cell_type": "code",
   "execution_count": 1,
   "metadata": {},
   "outputs": [
    {
     "name": "stdout",
     "output_type": "stream",
     "text": [
      "Populating the interactive namespace from numpy and matplotlib\n"
     ]
    }
   ],
   "source": [
    "%pylab inline"
   ]
  },
  {
   "cell_type": "code",
   "execution_count": 2,
   "metadata": {},
   "outputs": [],
   "source": [
    "import pandas as pd"
   ]
  },
  {
   "cell_type": "code",
   "execution_count": 21,
   "metadata": {},
   "outputs": [],
   "source": [
    "df = pd.read_csv('https://api.statbank.dk/v1/data/FOLK1A/CSV?delimiter=Semicolon&Tid=2020K3%2C2008K3&CIVILSTAND=G%2CF&ALDER=IALT&OMR%C3%85DE=000&K%C3%98N=TOT', sep=';')"
   ]
  },
  {
   "cell_type": "code",
   "execution_count": 22,
   "metadata": {},
   "outputs": [
    {
     "data": {
      "text/html": [
       "<div>\n",
       "<style scoped>\n",
       "    .dataframe tbody tr th:only-of-type {\n",
       "        vertical-align: middle;\n",
       "    }\n",
       "\n",
       "    .dataframe tbody tr th {\n",
       "        vertical-align: top;\n",
       "    }\n",
       "\n",
       "    .dataframe thead th {\n",
       "        text-align: right;\n",
       "    }\n",
       "</style>\n",
       "<table border=\"1\" class=\"dataframe\">\n",
       "  <thead>\n",
       "    <tr style=\"text-align: right;\">\n",
       "      <th></th>\n",
       "      <th>TID</th>\n",
       "      <th>CIVILSTAND</th>\n",
       "      <th>ALDER</th>\n",
       "      <th>OMRÅDE</th>\n",
       "      <th>KØN</th>\n",
       "      <th>INDHOLD</th>\n",
       "    </tr>\n",
       "  </thead>\n",
       "  <tbody>\n",
       "    <tr>\n",
       "      <th>0</th>\n",
       "      <td>2008K3</td>\n",
       "      <td>Gift/separeret</td>\n",
       "      <td>I alt</td>\n",
       "      <td>Hele landet</td>\n",
       "      <td>I alt</td>\n",
       "      <td>2176196</td>\n",
       "    </tr>\n",
       "    <tr>\n",
       "      <th>1</th>\n",
       "      <td>2008K3</td>\n",
       "      <td>Fraskilt</td>\n",
       "      <td>I alt</td>\n",
       "      <td>Hele landet</td>\n",
       "      <td>I alt</td>\n",
       "      <td>432713</td>\n",
       "    </tr>\n",
       "    <tr>\n",
       "      <th>2</th>\n",
       "      <td>2020K3</td>\n",
       "      <td>Gift/separeret</td>\n",
       "      <td>I alt</td>\n",
       "      <td>Hele landet</td>\n",
       "      <td>I alt</td>\n",
       "      <td>2132092</td>\n",
       "    </tr>\n",
       "    <tr>\n",
       "      <th>3</th>\n",
       "      <td>2020K3</td>\n",
       "      <td>Fraskilt</td>\n",
       "      <td>I alt</td>\n",
       "      <td>Hele landet</td>\n",
       "      <td>I alt</td>\n",
       "      <td>550715</td>\n",
       "    </tr>\n",
       "  </tbody>\n",
       "</table>\n",
       "</div>"
      ],
      "text/plain": [
       "      TID      CIVILSTAND  ALDER       OMRÅDE    KØN  INDHOLD\n",
       "0  2008K3  Gift/separeret  I alt  Hele landet  I alt  2176196\n",
       "1  2008K3        Fraskilt  I alt  Hele landet  I alt   432713\n",
       "2  2020K3  Gift/separeret  I alt  Hele landet  I alt  2132092\n",
       "3  2020K3        Fraskilt  I alt  Hele landet  I alt   550715"
      ]
     },
     "execution_count": 22,
     "metadata": {},
     "output_type": "execute_result"
    }
   ],
   "source": [
    "df.head()"
   ]
  },
  {
   "cell_type": "code",
   "execution_count": 23,
   "metadata": {},
   "outputs": [],
   "source": [
    "df_filtered = df[df['CIVILSTAND'].isin(['Fraskilt'])]  "
   ]
  },
  {
   "cell_type": "code",
   "execution_count": 24,
   "metadata": {},
   "outputs": [
    {
     "data": {
      "text/html": [
       "<div>\n",
       "<style scoped>\n",
       "    .dataframe tbody tr th:only-of-type {\n",
       "        vertical-align: middle;\n",
       "    }\n",
       "\n",
       "    .dataframe tbody tr th {\n",
       "        vertical-align: top;\n",
       "    }\n",
       "\n",
       "    .dataframe thead th {\n",
       "        text-align: right;\n",
       "    }\n",
       "</style>\n",
       "<table border=\"1\" class=\"dataframe\">\n",
       "  <thead>\n",
       "    <tr style=\"text-align: right;\">\n",
       "      <th></th>\n",
       "      <th>TID</th>\n",
       "      <th>CIVILSTAND</th>\n",
       "      <th>ALDER</th>\n",
       "      <th>OMRÅDE</th>\n",
       "      <th>KØN</th>\n",
       "      <th>INDHOLD</th>\n",
       "    </tr>\n",
       "  </thead>\n",
       "  <tbody>\n",
       "    <tr>\n",
       "      <th>1</th>\n",
       "      <td>2008K3</td>\n",
       "      <td>Fraskilt</td>\n",
       "      <td>I alt</td>\n",
       "      <td>Hele landet</td>\n",
       "      <td>I alt</td>\n",
       "      <td>432713</td>\n",
       "    </tr>\n",
       "    <tr>\n",
       "      <th>3</th>\n",
       "      <td>2020K3</td>\n",
       "      <td>Fraskilt</td>\n",
       "      <td>I alt</td>\n",
       "      <td>Hele landet</td>\n",
       "      <td>I alt</td>\n",
       "      <td>550715</td>\n",
       "    </tr>\n",
       "  </tbody>\n",
       "</table>\n",
       "</div>"
      ],
      "text/plain": [
       "      TID CIVILSTAND  ALDER       OMRÅDE    KØN  INDHOLD\n",
       "1  2008K3   Fraskilt  I alt  Hele landet  I alt   432713\n",
       "3  2020K3   Fraskilt  I alt  Hele landet  I alt   550715"
      ]
     },
     "execution_count": 24,
     "metadata": {},
     "output_type": "execute_result"
    }
   ],
   "source": [
    "df_filtered.head()"
   ]
  },
  {
   "cell_type": "code",
   "execution_count": 25,
   "metadata": {},
   "outputs": [],
   "source": [
    "del df_filtered['ALDER']"
   ]
  },
  {
   "cell_type": "code",
   "execution_count": 28,
   "metadata": {},
   "outputs": [],
   "source": [
    "del df_filtered['OMRÅDE']"
   ]
  },
  {
   "cell_type": "code",
   "execution_count": 26,
   "metadata": {},
   "outputs": [],
   "source": [
    "del df_filtered['KØN']"
   ]
  },
  {
   "cell_type": "code",
   "execution_count": 29,
   "metadata": {},
   "outputs": [
    {
     "data": {
      "text/html": [
       "<div>\n",
       "<style scoped>\n",
       "    .dataframe tbody tr th:only-of-type {\n",
       "        vertical-align: middle;\n",
       "    }\n",
       "\n",
       "    .dataframe tbody tr th {\n",
       "        vertical-align: top;\n",
       "    }\n",
       "\n",
       "    .dataframe thead th {\n",
       "        text-align: right;\n",
       "    }\n",
       "</style>\n",
       "<table border=\"1\" class=\"dataframe\">\n",
       "  <thead>\n",
       "    <tr style=\"text-align: right;\">\n",
       "      <th></th>\n",
       "      <th>TID</th>\n",
       "      <th>CIVILSTAND</th>\n",
       "      <th>INDHOLD</th>\n",
       "    </tr>\n",
       "  </thead>\n",
       "  <tbody>\n",
       "    <tr>\n",
       "      <th>1</th>\n",
       "      <td>2008K3</td>\n",
       "      <td>Fraskilt</td>\n",
       "      <td>432713</td>\n",
       "    </tr>\n",
       "    <tr>\n",
       "      <th>3</th>\n",
       "      <td>2020K3</td>\n",
       "      <td>Fraskilt</td>\n",
       "      <td>550715</td>\n",
       "    </tr>\n",
       "  </tbody>\n",
       "</table>\n",
       "</div>"
      ],
      "text/plain": [
       "      TID CIVILSTAND  INDHOLD\n",
       "1  2008K3   Fraskilt   432713\n",
       "3  2020K3   Fraskilt   550715"
      ]
     },
     "execution_count": 29,
     "metadata": {},
     "output_type": "execute_result"
    }
   ],
   "source": [
    "df_filtered.head()"
   ]
  },
  {
   "cell_type": "code",
   "execution_count": 34,
   "metadata": {},
   "outputs": [
    {
     "data": {
      "text/html": [
       "<div>\n",
       "<style scoped>\n",
       "    .dataframe tbody tr th:only-of-type {\n",
       "        vertical-align: middle;\n",
       "    }\n",
       "\n",
       "    .dataframe tbody tr th {\n",
       "        vertical-align: top;\n",
       "    }\n",
       "\n",
       "    .dataframe thead th {\n",
       "        text-align: right;\n",
       "    }\n",
       "</style>\n",
       "<table border=\"1\" class=\"dataframe\">\n",
       "  <thead>\n",
       "    <tr style=\"text-align: right;\">\n",
       "      <th></th>\n",
       "      <th>TID</th>\n",
       "      <th>INDHOLD</th>\n",
       "    </tr>\n",
       "  </thead>\n",
       "  <tbody>\n",
       "    <tr>\n",
       "      <th>0</th>\n",
       "      <td>2008K3</td>\n",
       "      <td>2608909</td>\n",
       "    </tr>\n",
       "    <tr>\n",
       "      <th>1</th>\n",
       "      <td>2020K3</td>\n",
       "      <td>2682807</td>\n",
       "    </tr>\n",
       "  </tbody>\n",
       "</table>\n",
       "</div>"
      ],
      "text/plain": [
       "      TID  INDHOLD\n",
       "0  2008K3  2608909\n",
       "1  2020K3  2682807"
      ]
     },
     "execution_count": 34,
     "metadata": {},
     "output_type": "execute_result"
    }
   ],
   "source": [
    "df.groupby('TID')['INDHOLD'].sum().reset_index()"
   ]
  },
  {
   "cell_type": "code",
   "execution_count": 31,
   "metadata": {},
   "outputs": [
    {
     "data": {
      "text/html": [
       "<div>\n",
       "<style scoped>\n",
       "    .dataframe tbody tr th:only-of-type {\n",
       "        vertical-align: middle;\n",
       "    }\n",
       "\n",
       "    .dataframe tbody tr th {\n",
       "        vertical-align: top;\n",
       "    }\n",
       "\n",
       "    .dataframe thead th {\n",
       "        text-align: right;\n",
       "    }\n",
       "</style>\n",
       "<table border=\"1\" class=\"dataframe\">\n",
       "  <thead>\n",
       "    <tr style=\"text-align: right;\">\n",
       "      <th></th>\n",
       "      <th>TID</th>\n",
       "      <th>CIVILSTAND</th>\n",
       "      <th>ALDER</th>\n",
       "      <th>OMRÅDE</th>\n",
       "      <th>KØN</th>\n",
       "      <th>INDHOLD</th>\n",
       "    </tr>\n",
       "  </thead>\n",
       "  <tbody>\n",
       "    <tr>\n",
       "      <th>0</th>\n",
       "      <td>2008K3</td>\n",
       "      <td>Gift/separeret</td>\n",
       "      <td>I alt</td>\n",
       "      <td>Hele landet</td>\n",
       "      <td>I alt</td>\n",
       "      <td>2176196</td>\n",
       "    </tr>\n",
       "    <tr>\n",
       "      <th>1</th>\n",
       "      <td>2008K3</td>\n",
       "      <td>Fraskilt</td>\n",
       "      <td>I alt</td>\n",
       "      <td>Hele landet</td>\n",
       "      <td>I alt</td>\n",
       "      <td>432713</td>\n",
       "    </tr>\n",
       "    <tr>\n",
       "      <th>2</th>\n",
       "      <td>2020K3</td>\n",
       "      <td>Gift/separeret</td>\n",
       "      <td>I alt</td>\n",
       "      <td>Hele landet</td>\n",
       "      <td>I alt</td>\n",
       "      <td>2132092</td>\n",
       "    </tr>\n",
       "    <tr>\n",
       "      <th>3</th>\n",
       "      <td>2020K3</td>\n",
       "      <td>Fraskilt</td>\n",
       "      <td>I alt</td>\n",
       "      <td>Hele landet</td>\n",
       "      <td>I alt</td>\n",
       "      <td>550715</td>\n",
       "    </tr>\n",
       "  </tbody>\n",
       "</table>\n",
       "</div>"
      ],
      "text/plain": [
       "      TID      CIVILSTAND  ALDER       OMRÅDE    KØN  INDHOLD\n",
       "0  2008K3  Gift/separeret  I alt  Hele landet  I alt  2176196\n",
       "1  2008K3        Fraskilt  I alt  Hele landet  I alt   432713\n",
       "2  2020K3  Gift/separeret  I alt  Hele landet  I alt  2132092\n",
       "3  2020K3        Fraskilt  I alt  Hele landet  I alt   550715"
      ]
     },
     "execution_count": 31,
     "metadata": {},
     "output_type": "execute_result"
    }
   ],
   "source": [
    "df.head()"
   ]
  },
  {
   "cell_type": "code",
   "execution_count": 36,
   "metadata": {},
   "outputs": [],
   "source": [
    "df['Procent'] = df['INDHOLD']/5500000 * 100"
   ]
  },
  {
   "cell_type": "code",
   "execution_count": null,
   "metadata": {},
   "outputs": [],
   "source": [
    "'''Jeg forsøgte at lave en procent kolonne på Danmarks befolkning mod civilstand, men den er ikke præcis da Danmarks befolkning er steget med 200.000'''"
   ]
  },
  {
   "cell_type": "code",
   "execution_count": 37,
   "metadata": {},
   "outputs": [
    {
     "data": {
      "text/html": [
       "<div>\n",
       "<style scoped>\n",
       "    .dataframe tbody tr th:only-of-type {\n",
       "        vertical-align: middle;\n",
       "    }\n",
       "\n",
       "    .dataframe tbody tr th {\n",
       "        vertical-align: top;\n",
       "    }\n",
       "\n",
       "    .dataframe thead th {\n",
       "        text-align: right;\n",
       "    }\n",
       "</style>\n",
       "<table border=\"1\" class=\"dataframe\">\n",
       "  <thead>\n",
       "    <tr style=\"text-align: right;\">\n",
       "      <th></th>\n",
       "      <th>TID</th>\n",
       "      <th>CIVILSTAND</th>\n",
       "      <th>ALDER</th>\n",
       "      <th>OMRÅDE</th>\n",
       "      <th>KØN</th>\n",
       "      <th>INDHOLD</th>\n",
       "      <th>Procent</th>\n",
       "    </tr>\n",
       "  </thead>\n",
       "  <tbody>\n",
       "    <tr>\n",
       "      <th>0</th>\n",
       "      <td>2008K3</td>\n",
       "      <td>Gift/separeret</td>\n",
       "      <td>I alt</td>\n",
       "      <td>Hele landet</td>\n",
       "      <td>I alt</td>\n",
       "      <td>2176196</td>\n",
       "      <td>39.567200</td>\n",
       "    </tr>\n",
       "    <tr>\n",
       "      <th>1</th>\n",
       "      <td>2008K3</td>\n",
       "      <td>Fraskilt</td>\n",
       "      <td>I alt</td>\n",
       "      <td>Hele landet</td>\n",
       "      <td>I alt</td>\n",
       "      <td>432713</td>\n",
       "      <td>7.867509</td>\n",
       "    </tr>\n",
       "    <tr>\n",
       "      <th>2</th>\n",
       "      <td>2020K3</td>\n",
       "      <td>Gift/separeret</td>\n",
       "      <td>I alt</td>\n",
       "      <td>Hele landet</td>\n",
       "      <td>I alt</td>\n",
       "      <td>2132092</td>\n",
       "      <td>38.765309</td>\n",
       "    </tr>\n",
       "    <tr>\n",
       "      <th>3</th>\n",
       "      <td>2020K3</td>\n",
       "      <td>Fraskilt</td>\n",
       "      <td>I alt</td>\n",
       "      <td>Hele landet</td>\n",
       "      <td>I alt</td>\n",
       "      <td>550715</td>\n",
       "      <td>10.013000</td>\n",
       "    </tr>\n",
       "  </tbody>\n",
       "</table>\n",
       "</div>"
      ],
      "text/plain": [
       "      TID      CIVILSTAND  ALDER       OMRÅDE    KØN  INDHOLD    Procent\n",
       "0  2008K3  Gift/separeret  I alt  Hele landet  I alt  2176196  39.567200\n",
       "1  2008K3        Fraskilt  I alt  Hele landet  I alt   432713   7.867509\n",
       "2  2020K3  Gift/separeret  I alt  Hele landet  I alt  2132092  38.765309\n",
       "3  2020K3        Fraskilt  I alt  Hele landet  I alt   550715  10.013000"
      ]
     },
     "execution_count": 37,
     "metadata": {},
     "output_type": "execute_result"
    }
   ],
   "source": [
    "df.head() #Min besvaring på 5A, fraskilte er steget med 2,2%"
   ]
  },
  {
   "cell_type": "code",
   "execution_count": 38,
   "metadata": {},
   "outputs": [],
   "source": [
    "ugifte_total_2020 = pd.read_csv('https://api.statbank.dk/v1/data/FOLK1A/CSV?delimiter=Semicolon&CIVILSTAND=U%2CTOT&OMR%C3%85DE=101%2C147%2C151%2C157%2C159&Tid=2020K4', sep=';')"
   ]
  },
  {
   "cell_type": "code",
   "execution_count": 40,
   "metadata": {},
   "outputs": [
    {
     "data": {
      "text/html": [
       "<div>\n",
       "<style scoped>\n",
       "    .dataframe tbody tr th:only-of-type {\n",
       "        vertical-align: middle;\n",
       "    }\n",
       "\n",
       "    .dataframe tbody tr th {\n",
       "        vertical-align: top;\n",
       "    }\n",
       "\n",
       "    .dataframe thead th {\n",
       "        text-align: right;\n",
       "    }\n",
       "</style>\n",
       "<table border=\"1\" class=\"dataframe\">\n",
       "  <thead>\n",
       "    <tr style=\"text-align: right;\">\n",
       "      <th></th>\n",
       "      <th>CIVILSTAND</th>\n",
       "      <th>OMRÅDE</th>\n",
       "      <th>TID</th>\n",
       "      <th>INDHOLD</th>\n",
       "    </tr>\n",
       "  </thead>\n",
       "  <tbody>\n",
       "    <tr>\n",
       "      <th>0</th>\n",
       "      <td>Ugift</td>\n",
       "      <td>København</td>\n",
       "      <td>2020K4</td>\n",
       "      <td>417782</td>\n",
       "    </tr>\n",
       "    <tr>\n",
       "      <th>1</th>\n",
       "      <td>Ugift</td>\n",
       "      <td>Frederiksberg</td>\n",
       "      <td>2020K4</td>\n",
       "      <td>61020</td>\n",
       "    </tr>\n",
       "    <tr>\n",
       "      <th>2</th>\n",
       "      <td>Ugift</td>\n",
       "      <td>Ballerup</td>\n",
       "      <td>2020K4</td>\n",
       "      <td>22707</td>\n",
       "    </tr>\n",
       "    <tr>\n",
       "      <th>3</th>\n",
       "      <td>Ugift</td>\n",
       "      <td>Gentofte</td>\n",
       "      <td>2020K4</td>\n",
       "      <td>35017</td>\n",
       "    </tr>\n",
       "    <tr>\n",
       "      <th>4</th>\n",
       "      <td>Ugift</td>\n",
       "      <td>Gladsaxe</td>\n",
       "      <td>2020K4</td>\n",
       "      <td>34749</td>\n",
       "    </tr>\n",
       "    <tr>\n",
       "      <th>5</th>\n",
       "      <td>I alt</td>\n",
       "      <td>København</td>\n",
       "      <td>2020K4</td>\n",
       "      <td>637936</td>\n",
       "    </tr>\n",
       "    <tr>\n",
       "      <th>6</th>\n",
       "      <td>I alt</td>\n",
       "      <td>Frederiksberg</td>\n",
       "      <td>2020K4</td>\n",
       "      <td>104351</td>\n",
       "    </tr>\n",
       "    <tr>\n",
       "      <th>7</th>\n",
       "      <td>I alt</td>\n",
       "      <td>Ballerup</td>\n",
       "      <td>2020K4</td>\n",
       "      <td>48978</td>\n",
       "    </tr>\n",
       "    <tr>\n",
       "      <th>8</th>\n",
       "      <td>I alt</td>\n",
       "      <td>Gentofte</td>\n",
       "      <td>2020K4</td>\n",
       "      <td>74623</td>\n",
       "    </tr>\n",
       "    <tr>\n",
       "      <th>9</th>\n",
       "      <td>I alt</td>\n",
       "      <td>Gladsaxe</td>\n",
       "      <td>2020K4</td>\n",
       "      <td>69203</td>\n",
       "    </tr>\n",
       "  </tbody>\n",
       "</table>\n",
       "</div>"
      ],
      "text/plain": [
       "  CIVILSTAND         OMRÅDE     TID  INDHOLD\n",
       "0      Ugift      København  2020K4   417782\n",
       "1      Ugift  Frederiksberg  2020K4    61020\n",
       "2      Ugift       Ballerup  2020K4    22707\n",
       "3      Ugift       Gentofte  2020K4    35017\n",
       "4      Ugift       Gladsaxe  2020K4    34749\n",
       "5      I alt      København  2020K4   637936\n",
       "6      I alt  Frederiksberg  2020K4   104351\n",
       "7      I alt       Ballerup  2020K4    48978\n",
       "8      I alt       Gentofte  2020K4    74623\n",
       "9      I alt       Gladsaxe  2020K4    69203"
      ]
     },
     "execution_count": 40,
     "metadata": {},
     "output_type": "execute_result"
    }
   ],
   "source": [
    "ugifte_total_2020"
   ]
  },
  {
   "cell_type": "code",
   "execution_count": null,
   "metadata": {},
   "outputs": [],
   "source": []
  }
 ],
 "metadata": {
  "kernelspec": {
   "display_name": "Python 3",
   "language": "python",
   "name": "python3"
  },
  "language_info": {
   "codemirror_mode": {
    "name": "ipython",
    "version": 3
   },
   "file_extension": ".py",
   "mimetype": "text/x-python",
   "name": "python",
   "nbconvert_exporter": "python",
   "pygments_lexer": "ipython3",
   "version": "3.7.6"
  }
 },
 "nbformat": 4,
 "nbformat_minor": 4
}
